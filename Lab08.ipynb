{
 "cells": [
  {
   "cell_type": "code",
   "execution_count": 1,
   "id": "fcd44f3d-1b08-4e73-89ff-34f05775ffff",
   "metadata": {},
   "outputs": [
    {
     "name": "stdout",
     "output_type": "stream",
     "text": [
      "buys_computer\n",
      "yes    0.642857\n",
      "no     0.357143\n",
      "Name: proportion, dtype: float64\n"
     ]
    }
   ],
   "source": [
    "import pandas as pd\n",
    "\n",
    "# Load the dataset\n",
    "data = pd.DataFrame({\n",
    "    'age': ['<=30', '<=30', '31...40', '>40', '>40', '>40', '31...40', '<=30', '<=30', '>40', '<=30', '31...40', '31...40', '>40'],\n",
    "    'income': ['high', 'high', 'high', 'medium', 'low', 'low', 'low', 'medium', 'low', 'medium', 'medium', 'medium', 'high', 'medium'],\n",
    "    'student': ['no', 'no', 'no', 'no', 'yes', 'yes', 'yes', 'no', 'yes', 'yes', 'yes', 'no', 'yes', 'no'],\n",
    "    'credit_rating': ['fair', 'excellent', 'fair', 'fair', 'fair', 'excellent', 'excellent', 'fair', 'fair', 'fair', 'excellent', 'excellent', 'fair', 'excellent'],\n",
    "    'buys_computer': ['no', 'no', 'yes', 'yes', 'yes', 'no', 'yes', 'no', 'yes', 'yes', 'yes', 'yes', 'yes', 'no']\n",
    "})\n",
    "\n",
    "# Calculate prior probability for each class\n",
    "class_prior = data['buys_computer'].value_counts(normalize=True)\n",
    "print(class_prior)\n"
   ]
  },
  {
   "cell_type": "code",
   "execution_count": 2,
   "id": "328ff111-7269-4f73-b977-509b44d1cb34",
   "metadata": {},
   "outputs": [
    {
     "name": "stdout",
     "output_type": "stream",
     "text": [
      "Class Conditional Densities for Features: \n",
      " [[0.         0.6        0.4        0.4        0.2        0.4\n",
      "  0.8        0.2        0.6        0.4       ]\n",
      " [0.44444444 0.22222222 0.33333333 0.22222222 0.33333333 0.44444444\n",
      "  0.33333333 0.66666667 0.33333333 0.66666667]]\n"
     ]
    }
   ],
   "source": [
    "from sklearn.naive_bayes import GaussianNB\n",
    "import numpy as np\n",
    "\n",
    "# Preparing features and target\n",
    "features = data[['age', 'income', 'student', 'credit_rating']]\n",
    "features = pd.get_dummies(features)  # One-hot encoding\n",
    "target = data['buys_computer'].apply(lambda x: 1 if x == 'yes' else 0)\n",
    "\n",
    "# Fit the Naive Bayes model\n",
    "model = GaussianNB()\n",
    "model.fit(features, target)\n",
    "\n",
    "# Output class conditional densities\n",
    "print(\"Class Conditional Densities for Features: \\n\", model.theta_)\n"
   ]
  },
  {
   "cell_type": "code",
   "execution_count": 3,
   "id": "8e4e93a2-59d6-4318-869c-20416da7a325",
   "metadata": {},
   "outputs": [
    {
     "name": "stdout",
     "output_type": "stream",
     "text": [
      "Chi2: 3.3249999999999997, p-value: 0.5049810026322079\n",
      "Features are independent.\n"
     ]
    }
   ],
   "source": [
    "from scipy.stats import chi2_contingency\n",
    "\n",
    "# Example: Chi-square test between age and income\n",
    "contingency_table = pd.crosstab(data['age'], data['income'])\n",
    "chi2, p, dof, expected = chi2_contingency(contingency_table)\n",
    "\n",
    "print(f\"Chi2: {chi2}, p-value: {p}\")\n",
    "if p < 0.05:\n",
    "    print(\"Features are not independent.\")\n",
    "else:\n",
    "    print(\"Features are independent.\")\n"
   ]
  },
  {
   "cell_type": "code",
   "execution_count": 4,
   "id": "f67cf790-254e-4a16-b731-4e3e6b250a21",
   "metadata": {},
   "outputs": [
    {
     "name": "stdout",
     "output_type": "stream",
     "text": [
      "Prediction: yes\n"
     ]
    },
    {
     "name": "stderr",
     "output_type": "stream",
     "text": [
      "C:\\Python\\Lib\\site-packages\\sklearn\\base.py:493: UserWarning: X does not have valid feature names, but GaussianNB was fitted with feature names\n",
      "  warnings.warn(\n"
     ]
    }
   ],
   "source": [
    "# Building a Naive Bayes classifier\n",
    "model = GaussianNB()\n",
    "model.fit(features, target)\n",
    "\n",
    "# Predicting for a new sample (for demonstration)\n",
    "new_sample = np.array([[1, 0, 0, 0, 1, 0, 1, 0, 1, 0]])  # Sample features\n",
    "prediction = model.predict(new_sample)\n",
    "print(f\"Prediction: {'yes' if prediction[0] == 1 else 'no'}\")\n"
   ]
  },
  {
   "cell_type": "code",
   "execution_count": 5,
   "id": "baca6541-f7b0-40b8-9907-ab0bb1b134ea",
   "metadata": {},
   "outputs": [
    {
     "name": "stdout",
     "output_type": "stream",
     "text": [
      "Prediction: 1\n"
     ]
    }
   ],
   "source": [
    "# Load your own dataset\n",
    "rfmid_data = pd.read_csv('RFMID_Training_Labels.csv')\n",
    "\n",
    "# Prepare features and target (adapt according to your specific dataset)\n",
    "X = rfmid_data.drop(columns=['Disease_Risk'])  # Assuming 'target' is the column you're predicting\n",
    "y = rfmid_data['Disease_Risk']\n",
    "\n",
    "# Train the Naive Bayes classifier\n",
    "model = GaussianNB()\n",
    "model.fit(X, y)\n",
    "\n",
    "# Predict on a new sample (adjust based on your dataset)\n",
    "sample_data = X.iloc[0:1]  # First row as an example\n",
    "prediction = model.predict(sample_data)\n",
    "print(f\"Prediction: {prediction[0]}\")\n"
   ]
  },
  {
   "cell_type": "code",
   "execution_count": null,
   "id": "5156eccb-18e8-480c-8092-0f21627b9ccd",
   "metadata": {},
   "outputs": [],
   "source": []
  }
 ],
 "metadata": {
  "kernelspec": {
   "display_name": "Python 3 (ipykernel)",
   "language": "python",
   "name": "python3"
  },
  "language_info": {
   "codemirror_mode": {
    "name": "ipython",
    "version": 3
   },
   "file_extension": ".py",
   "mimetype": "text/x-python",
   "name": "python",
   "nbconvert_exporter": "python",
   "pygments_lexer": "ipython3",
   "version": "3.12.5"
  }
 },
 "nbformat": 4,
 "nbformat_minor": 5
}
